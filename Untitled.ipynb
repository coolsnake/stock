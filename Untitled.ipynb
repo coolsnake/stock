{
 "cells": [
  {
   "cell_type": "code",
   "execution_count": 7,
   "metadata": {},
   "outputs": [],
   "source": [
    "import struct\n",
    "import datetime\n",
    "\n",
    "tdx_dir = \"D:/programfiles/gjty/vipdoc/\"\n",
    "dst_dir = \"D:/programing/python/stock/tdxdata/\"\n",
    "stock_id = \"sh999999\"\n",
    "stock_id = \"sh600519\"\n",
    "\n",
    "\n",
    "\n",
    "def stock_csv(filepath, name):\n",
    "    data = []\n",
    "    with open(filepath, 'rb') as f:\n",
    "        file_object_path = dst_dir + name +'.csv'\n",
    "        file_object = open(file_object_path, 'w+')\n",
    "        while True:\n",
    "            stock_date = f.read(4)\n",
    "            stock_open = f.read(4)\n",
    "            stock_high = f.read(4)\n",
    "            stock_low= f.read(4)\n",
    "            stock_close = f.read(4)\n",
    "            stock_amount = f.read(4)\n",
    "            stock_vol = f.read(4)\n",
    "            stock_reservation = f.read(4)\n",
    "\n",
    "            # date,open,high,low,close,amount,vol,reservation\n",
    "\n",
    "            if not stock_date:\n",
    "                break\n",
    "            stock_date = struct.unpack(\"l\", stock_date)     # 4字节 如20091229\n",
    "            stock_open = struct.unpack(\"l\", stock_open)     #开盘价*100\n",
    "            stock_high = struct.unpack(\"l\", stock_high)     #最高价*100\n",
    "            stock_low= struct.unpack(\"l\", stock_low)        #最低价*100\n",
    "            stock_close = struct.unpack(\"l\", stock_close)   #收盘价*100\n",
    "            stock_amount = struct.unpack(\"f\", stock_amount) #成交额\n",
    "            stock_vol = struct.unpack(\"l\", stock_vol)       #成交量\n",
    "            stock_reservation = struct.unpack(\"l\", stock_reservation) #保留值\n",
    "\n",
    "            date_format = datetime.datetime.strptime(str(stock_date[0]),'%Y%M%d') #格式化日期\n",
    "            list= date_format.strftime('%Y-%M-%d')+\",\"+str(stock_open[0]/100)+\",\"+str(stock_high[0]/100.0)+\",\"+str(stock_low[0]/100.0)+\",\"+str(stock_close[0]/100.0)+\",\"+str(stock_vol[0])+\",\"+str(stock_reservation)+\"\\r\\n\"\n",
    "            file_object.writelines(list)\n",
    "        file_object.close()\n",
    "\n",
    "path = tdx_dir + stock_id[0:2] + \"/lday/\" + stock_id + \".day\"\n",
    "\n",
    "stock_csv(path, stock_id)\n",
    "\n",
    "\n"
   ]
  },
  {
   "cell_type": "code",
   "execution_count": null,
   "metadata": {},
   "outputs": [],
   "source": []
  }
 ],
 "metadata": {
  "kernelspec": {
   "display_name": "Python 2",
   "language": "python",
   "name": "python2"
  },
  "language_info": {
   "codemirror_mode": {
    "name": "ipython",
    "version": 2
   },
   "file_extension": ".py",
   "mimetype": "text/x-python",
   "name": "python",
   "nbconvert_exporter": "python",
   "pygments_lexer": "ipython2",
   "version": "2.7.16"
  }
 },
 "nbformat": 4,
 "nbformat_minor": 2
}
