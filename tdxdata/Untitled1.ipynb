{
 "cells": [
  {
   "cell_type": "code",
   "execution_count": null,
   "metadata": {},
   "outputs": [],
   "source": []
  },
  {
   "cell_type": "code",
   "execution_count": 6,
   "metadata": {},
   "outputs": [
    {
     "name": "stdout",
     "output_type": "stream",
     "text": [
      "a   -2.171498\n",
      "b   -0.799808\n",
      "c    0.456618\n",
      "d    1.529166\n",
      "e   -0.848156\n",
      "dtype: float64\n",
      "running: pytest --skip-slow --skip-network C:\\Anaconda3\\lib\\site-packages\\pandas\n",
      "============================= test session starts =============================\n",
      "platform win32 -- Python 3.7.1, pytest-4.0.2, py-1.7.0, pluggy-0.8.0\n",
      "rootdir: D:\\programing\\python\\stock\\tdxdata, inifile:\n",
      "plugins: remotedata-0.3.1, openfiles-0.3.1, doctestplus-0.2.0, arraydiff-0.3\n",
      "collected 26188 items / 3 errors / 2 skipped\n",
      "\n",
      "=================================== ERRORS ====================================\n",
      "______________ ERROR collecting tests/groupby/test_whitelist.py _______________\n",
      "C:\\Anaconda3\\lib\\site-packages\\pandas\\tests\\groupby\\test_whitelist.py:127: in <module>\n",
      "    \"obj, whitelist\", zip((df_letters(), df_letters().floats),\n",
      "E   _pytest.warning_types.RemovedInPytest4Warning: Fixture \"df_letters\" called directly. Fixtures are not meant to be called directly, are created automatically when test functions request them as parameters. See https://docs.pytest.org/en/latest/fixture.html for more information.\n",
      "___________ ERROR collecting tests/indexes/datetimes/test_tools.py ____________\n",
      "C:\\Anaconda3\\lib\\site-packages\\pandas\\tests\\indexes\\datetimes\\test_tools.py:1494: in <module>\n",
      "    @pytest.fixture(params=[epoch_1960(),\n",
      "E   _pytest.warning_types.RemovedInPytest4Warning: Fixture \"epoch_1960\" called directly. Fixtures are not meant to be called directly, are created automatically when test functions request them as parameters. See https://docs.pytest.org/en/latest/fixture.html for more information.\n",
      "_______________ ERROR collecting tests/series/test_analytics.py _______________\n",
      "C:\\Anaconda3\\lib\\site-packages\\pandas\\tests\\series\\test_analytics.py:1882: in <module>\n",
      "    class TestNLargestNSmallest(object):\n",
      "C:\\Anaconda3\\lib\\site-packages\\pandas\\tests\\series\\test_analytics.py:1904: in TestNLargestNSmallest\n",
      "    [v for k, v in s_main_dtypes().iteritems()])\n",
      "E   _pytest.warning_types.RemovedInPytest4Warning: Fixture \"s_main_dtypes\" called directly. Fixtures are not meant to be called directly, are created automatically when test functions request them as parameters. See https://docs.pytest.org/en/latest/fixture.html for more information.\n",
      "============================== warnings summary ===============================\n",
      "C:\\Anaconda3\\lib\\site-packages\\pandas\\tests\\indexes\\timedeltas\\test_ops.py:337\n",
      "  C:\\Anaconda3\\lib\\site-packages\\pandas\\tests\\indexes\\timedeltas\\test_ops.py:337: DeprecationWarning: invalid escape sequence \\*\n",
      "    msg = '<2 \\* BusinessDays> is a non-fixed frequency'\n",
      "\n",
      "C:\\Anaconda3\\lib\\site-packages\\pandas\\tests\\internals\\test_internals.py:1292\n",
      "  C:\\Anaconda3\\lib\\site-packages\\pandas\\tests\\internals\\test_internals.py:1292: DeprecationWarning: invalid escape sequence \\[\n",
      "    msg = \"Wrong number of dimensions. values.ndim != ndim \\[1 != 2\\]\"\n",
      "\n",
      "C:\\Anaconda3\\lib\\site-packages\\sqlalchemy\\orm\\events.py:1853\n",
      "  C:\\Anaconda3\\lib\\site-packages\\sqlalchemy\\orm\\events.py:1853: DeprecationWarning: invalid escape sequence \\D\n",
      "    \"\"\"\n",
      "\n",
      "-- Docs: https://docs.pytest.org/en/latest/warnings.html\n",
      "!!!!!!!!!!!!!!!!!!! Interrupted: 3 errors during collection !!!!!!!!!!!!!!!!!!!\n",
      "=============== 2 skipped, 3 warnings, 3 error in 71.72 seconds ===============\n"
     ]
    },
    {
     "ename": "SystemExit",
     "evalue": "2",
     "output_type": "error",
     "traceback": [
      "An exception has occurred, use %tb to see the full traceback.\n",
      "\u001b[1;31mSystemExit\u001b[0m\u001b[1;31m:\u001b[0m 2\n"
     ]
    },
    {
     "name": "stderr",
     "output_type": "stream",
     "text": [
      "C:\\Anaconda3\\lib\\site-packages\\IPython\\core\\interactiveshell.py:3275: UserWarning: To exit: use 'exit', 'quit', or Ctrl-D.\n",
      "  warn(\"To exit: use 'exit', 'quit', or Ctrl-D.\", stacklevel=1)\n"
     ]
    }
   ],
   "source": [
    "import pandas as pd\n",
    "import numpy as np\n",
    "s_array = np.random.randn(5)\n",
    "s = pd.Series(s_array, index = [\"a\", \"b\", \"c\", \"d\", \"e\"])\n",
    "print(s)\n",
    "pd.test()"
   ]
  },
  {
   "cell_type": "code",
   "execution_count": 15,
   "metadata": {},
   "outputs": [
    {
     "data": {
      "text/html": [
       "<div>\n",
       "<style scoped>\n",
       "    .dataframe tbody tr th:only-of-type {\n",
       "        vertical-align: middle;\n",
       "    }\n",
       "\n",
       "    .dataframe tbody tr th {\n",
       "        vertical-align: top;\n",
       "    }\n",
       "\n",
       "    .dataframe thead th {\n",
       "        text-align: right;\n",
       "    }\n",
       "</style>\n",
       "<table border=\"1\" class=\"dataframe\">\n",
       "  <thead>\n",
       "    <tr style=\"text-align: right;\">\n",
       "      <th></th>\n",
       "      <th>2019-04-16</th>\n",
       "      <th>3164.4</th>\n",
       "      <th>3253.6</th>\n",
       "      <th>3153.21</th>\n",
       "      <th>3253.6.1</th>\n",
       "      <th>357918752</th>\n",
       "      <th>(11797776</th>\n",
       "      <th>)</th>\n",
       "    </tr>\n",
       "  </thead>\n",
       "  <tbody>\n",
       "    <tr>\n",
       "      <th>0</th>\n",
       "      <td>2019-04-17</td>\n",
       "      <td>3250.15</td>\n",
       "      <td>3275.33</td>\n",
       "      <td>3239.80</td>\n",
       "      <td>3263.12</td>\n",
       "      <td>357541796</td>\n",
       "      <td>(37815151</td>\n",
       "      <td>)</td>\n",
       "    </tr>\n",
       "    <tr>\n",
       "      <th>1</th>\n",
       "      <td>2019-04-18</td>\n",
       "      <td>3261.07</td>\n",
       "      <td>3271.39</td>\n",
       "      <td>3241.83</td>\n",
       "      <td>3250.20</td>\n",
       "      <td>325539942</td>\n",
       "      <td>(68813219</td>\n",
       "      <td>)</td>\n",
       "    </tr>\n",
       "    <tr>\n",
       "      <th>2</th>\n",
       "      <td>2019-04-19</td>\n",
       "      <td>3250.15</td>\n",
       "      <td>3274.33</td>\n",
       "      <td>3226.81</td>\n",
       "      <td>3270.80</td>\n",
       "      <td>315198004</td>\n",
       "      <td>(36307839</td>\n",
       "      <td>)</td>\n",
       "    </tr>\n",
       "    <tr>\n",
       "      <th>3</th>\n",
       "      <td>2019-04-22</td>\n",
       "      <td>3278.49</td>\n",
       "      <td>3279.49</td>\n",
       "      <td>3206.88</td>\n",
       "      <td>3215.04</td>\n",
       "      <td>353217387</td>\n",
       "      <td>(73924956</td>\n",
       "      <td>)</td>\n",
       "    </tr>\n",
       "    <tr>\n",
       "      <th>4</th>\n",
       "      <td>2019-04-23</td>\n",
       "      <td>3211.87</td>\n",
       "      <td>3231.58</td>\n",
       "      <td>3186.76</td>\n",
       "      <td>3198.59</td>\n",
       "      <td>328361207</td>\n",
       "      <td>(75235658</td>\n",
       "      <td>)</td>\n",
       "    </tr>\n",
       "    <tr>\n",
       "      <th>5</th>\n",
       "      <td>2019-04-24</td>\n",
       "      <td>3203.56</td>\n",
       "      <td>3210.65</td>\n",
       "      <td>3156.61</td>\n",
       "      <td>3201.61</td>\n",
       "      <td>274872164</td>\n",
       "      <td>(30933978</td>\n",
       "      <td>)</td>\n",
       "    </tr>\n",
       "  </tbody>\n",
       "</table>\n",
       "</div>"
      ],
      "text/plain": [
       "   2019-04-16   3164.4   3253.6  3153.21  3253.6.1  357918752  (11797776  )\n",
       "0  2019-04-17  3250.15  3275.33  3239.80   3263.12  357541796  (37815151  )\n",
       "1  2019-04-18  3261.07  3271.39  3241.83   3250.20  325539942  (68813219  )\n",
       "2  2019-04-19  3250.15  3274.33  3226.81   3270.80  315198004  (36307839  )\n",
       "3  2019-04-22  3278.49  3279.49  3206.88   3215.04  353217387  (73924956  )\n",
       "4  2019-04-23  3211.87  3231.58  3186.76   3198.59  328361207  (75235658  )\n",
       "5  2019-04-24  3203.56  3210.65  3156.61   3201.61  274872164  (30933978  )"
      ]
     },
     "execution_count": 15,
     "metadata": {},
     "output_type": "execute_result"
    }
   ],
   "source": [
    "import pandas as pd \n",
    "data_excel = pd.read_csv(\"test.csv\") \n",
    "data_excel.reindex(\"date\")\n",
    "df = pd.DataFrame(index)"
   ]
  },
  {
   "cell_type": "markdown",
   "metadata": {},
   "source": [
    "import pandas as pd\n",
    "data_excel = pd.read_csv(\"sh999999.csv\")\n",
    "data_excel.tail()\n"
   ]
  }
 ],
 "metadata": {
  "kernelspec": {
   "display_name": "Python 3",
   "language": "python",
   "name": "python3"
  },
  "language_info": {
   "codemirror_mode": {
    "name": "ipython",
    "version": 3
   },
   "file_extension": ".py",
   "mimetype": "text/x-python",
   "name": "python",
   "nbconvert_exporter": "python",
   "pygments_lexer": "ipython3",
   "version": "3.7.1"
  }
 },
 "nbformat": 4,
 "nbformat_minor": 2
}
